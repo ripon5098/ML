{
 "cells": [
  {
   "cell_type": "markdown",
   "id": "ff3a216c",
   "metadata": {},
   "source": [
    "# Polymorphism"
   ]
  },
  {
   "cell_type": "code",
   "execution_count": 1,
   "id": "f1a24c22",
   "metadata": {},
   "outputs": [],
   "source": [
    "class Animal:\n",
    "    \n",
    "    def __init__(self):\n",
    "        print(\"From Animal Class\")\n",
    "    \n",
    "    def sound(sound):\n",
    "        return sound\n",
    "    \n",
    "    \n",
    "class Dog(Animal):\n",
    "    \n",
    "    def __init__(self):\n",
    "        super().__init__()\n",
    "        print(\"From Dog Class\")\n",
    "    \n",
    "    def sound(sound):\n",
    "        return sound\n",
    "    \n",
    "class Cat(Animal):\n",
    "    \n",
    "    def __init__(self):\n",
    "        super().__init__()\n",
    "        print(\"From Cat Class\")\n",
    "    \n",
    "#     def sound(sound):\n",
    "#         return sound"
   ]
  },
  {
   "cell_type": "code",
   "execution_count": 2,
   "id": "f807e615",
   "metadata": {},
   "outputs": [
    {
     "name": "stdout",
     "output_type": "stream",
     "text": [
      "From Animal Class\n",
      "From Dog Class\n",
      "From Animal Class\n",
      "From Cat Class\n"
     ]
    }
   ],
   "source": [
    "animal = Dog()\n",
    "animal2 = Cat()"
   ]
  },
  {
   "cell_type": "markdown",
   "id": "5e19595d",
   "metadata": {},
   "source": [
    "# Database"
   ]
  },
  {
   "cell_type": "code",
   "execution_count": 3,
   "id": "e91e1891",
   "metadata": {},
   "outputs": [],
   "source": [
    "import mysql"
   ]
  },
  {
   "cell_type": "code",
   "execution_count": 4,
   "id": "0d698312",
   "metadata": {},
   "outputs": [
    {
     "name": "stdout",
     "output_type": "stream",
     "text": [
      "Defaulting to user installation because normal site-packages is not writeable"
     ]
    },
    {
     "name": "stderr",
     "output_type": "stream",
     "text": [
      "WARNING: You are using pip version 22.0.4; however, version 22.1.2 is available.\n",
      "You should consider upgrading via the 'C:\\Program Files\\Python310\\python.exe -m pip install --upgrade pip' command.\n"
     ]
    },
    {
     "name": "stdout",
     "output_type": "stream",
     "text": [
      "\n",
      "Requirement already satisfied: mysql-connector-python in c:\\users\\youtechbd\\appdata\\roaming\\python\\python310\\site-packages (8.0.29)\n",
      "Requirement already satisfied: protobuf>=3.0.0 in c:\\users\\youtechbd\\appdata\\roaming\\python\\python310\\site-packages (from mysql-connector-python) (4.21.1)\n"
     ]
    }
   ],
   "source": [
    "!pip install mysql-connector-python"
   ]
  },
  {
   "cell_type": "code",
   "execution_count": 5,
   "id": "f74d38a7",
   "metadata": {},
   "outputs": [],
   "source": [
    "import mysql"
   ]
  },
  {
   "cell_type": "code",
   "execution_count": 6,
   "id": "8cb496ba",
   "metadata": {},
   "outputs": [],
   "source": [
    "import mysql.connector as conn"
   ]
  },
  {
   "cell_type": "code",
   "execution_count": 7,
   "id": "7d8db6f7",
   "metadata": {},
   "outputs": [
    {
     "name": "stdout",
     "output_type": "stream",
     "text": [
      "Requirement already satisfied: mysql-connector-python in c:\\users\\youtechbd\\anaconda3\\lib\\site-packages (8.0.29)\n",
      "Requirement already satisfied: protobuf>=3.0.0 in c:\\users\\youtechbd\\anaconda3\\lib\\site-packages (from mysql-connector-python) (4.21.1)\n",
      "Note: you may need to restart the kernel to use updated packages.\n"
     ]
    }
   ],
   "source": [
    "pip install mysql-connector-python"
   ]
  },
  {
   "cell_type": "code",
   "execution_count": 8,
   "id": "a8ec72bd",
   "metadata": {},
   "outputs": [],
   "source": [
    "import mysql"
   ]
  },
  {
   "cell_type": "code",
   "execution_count": 9,
   "id": "fbf9dafc",
   "metadata": {},
   "outputs": [],
   "source": [
    "import mysql.connector as conn"
   ]
  },
  {
   "cell_type": "code",
   "execution_count": 10,
   "id": "8c4a862c",
   "metadata": {},
   "outputs": [
    {
     "data": {
      "text/plain": [
       "<mysql.connector.connection_cext.CMySQLConnection at 0x181eaa0e790>"
      ]
     },
     "execution_count": 10,
     "metadata": {},
     "output_type": "execute_result"
    }
   ],
   "source": [
    "db = conn.connect(\n",
    "    host = \"localhost\",\n",
    "    user = \"root\",\n",
    "    password = \"\",\n",
    ")\n",
    "db"
   ]
  },
  {
   "cell_type": "code",
   "execution_count": 11,
   "id": "a411f74f",
   "metadata": {},
   "outputs": [
    {
     "ename": "DatabaseError",
     "evalue": "1007 (HY000): Can't create database 'student'; database exists",
     "output_type": "error",
     "traceback": [
      "\u001b[1;31m---------------------------------------------------------------------------\u001b[0m",
      "\u001b[1;31mMySQLInterfaceError\u001b[0m                       Traceback (most recent call last)",
      "\u001b[1;32m~\\anaconda3\\lib\\site-packages\\mysql\\connector\\connection_cext.py\u001b[0m in \u001b[0;36mcmd_query\u001b[1;34m(self, query, raw, buffered, raw_as_string)\u001b[0m\n\u001b[0;32m    534\u001b[0m                 \u001b[0mquery\u001b[0m \u001b[1;33m=\u001b[0m \u001b[0mquery\u001b[0m\u001b[1;33m.\u001b[0m\u001b[0mencode\u001b[0m\u001b[1;33m(\u001b[0m\u001b[1;34m'utf-8'\u001b[0m\u001b[1;33m)\u001b[0m\u001b[1;33m\u001b[0m\u001b[1;33m\u001b[0m\u001b[0m\n\u001b[1;32m--> 535\u001b[1;33m             self._cmysql.query(query,\n\u001b[0m\u001b[0;32m    536\u001b[0m                                \u001b[0mraw\u001b[0m\u001b[1;33m=\u001b[0m\u001b[0mraw\u001b[0m\u001b[1;33m,\u001b[0m \u001b[0mbuffered\u001b[0m\u001b[1;33m=\u001b[0m\u001b[0mbuffered\u001b[0m\u001b[1;33m,\u001b[0m\u001b[1;33m\u001b[0m\u001b[1;33m\u001b[0m\u001b[0m\n",
      "\u001b[1;31mMySQLInterfaceError\u001b[0m: Can't create database 'student'; database exists",
      "\nDuring handling of the above exception, another exception occurred:\n",
      "\u001b[1;31mDatabaseError\u001b[0m                             Traceback (most recent call last)",
      "\u001b[1;32mC:\\Users\\YOUTEC~1\\AppData\\Local\\Temp/ipykernel_13568/2630762794.py\u001b[0m in \u001b[0;36m<module>\u001b[1;34m\u001b[0m\n\u001b[0;32m      2\u001b[0m \u001b[0msql\u001b[0m \u001b[1;33m=\u001b[0m \u001b[1;34m\"CREATE DATABASE student\"\u001b[0m\u001b[1;33m\u001b[0m\u001b[1;33m\u001b[0m\u001b[0m\n\u001b[0;32m      3\u001b[0m \u001b[0mcursor\u001b[0m \u001b[1;33m=\u001b[0m \u001b[0mdb\u001b[0m\u001b[1;33m.\u001b[0m\u001b[0mcursor\u001b[0m\u001b[1;33m(\u001b[0m\u001b[1;33m)\u001b[0m\u001b[1;33m\u001b[0m\u001b[1;33m\u001b[0m\u001b[0m\n\u001b[1;32m----> 4\u001b[1;33m \u001b[0mcursor\u001b[0m\u001b[1;33m.\u001b[0m\u001b[0mexecute\u001b[0m\u001b[1;33m(\u001b[0m\u001b[0msql\u001b[0m\u001b[1;33m)\u001b[0m\u001b[1;33m\u001b[0m\u001b[1;33m\u001b[0m\u001b[0m\n\u001b[0m\u001b[0;32m      5\u001b[0m \u001b[0mcursor\u001b[0m\u001b[1;33m.\u001b[0m\u001b[0mclose\u001b[0m\u001b[1;33m(\u001b[0m\u001b[1;33m)\u001b[0m\u001b[1;33m\u001b[0m\u001b[1;33m\u001b[0m\u001b[0m\n\u001b[0;32m      6\u001b[0m \u001b[0mdb\u001b[0m\u001b[1;33m.\u001b[0m\u001b[0mclose\u001b[0m\u001b[1;33m(\u001b[0m\u001b[1;33m)\u001b[0m\u001b[1;33m\u001b[0m\u001b[1;33m\u001b[0m\u001b[0m\n",
      "\u001b[1;32m~\\anaconda3\\lib\\site-packages\\mysql\\connector\\cursor_cext.py\u001b[0m in \u001b[0;36mexecute\u001b[1;34m(self, operation, params, multi)\u001b[0m\n\u001b[0;32m    267\u001b[0m \u001b[1;33m\u001b[0m\u001b[0m\n\u001b[0;32m    268\u001b[0m         \u001b[1;32mtry\u001b[0m\u001b[1;33m:\u001b[0m\u001b[1;33m\u001b[0m\u001b[1;33m\u001b[0m\u001b[0m\n\u001b[1;32m--> 269\u001b[1;33m             result = self._cnx.cmd_query(stmt, raw=self._raw,\n\u001b[0m\u001b[0;32m    270\u001b[0m                                          \u001b[0mbuffered\u001b[0m\u001b[1;33m=\u001b[0m\u001b[0mself\u001b[0m\u001b[1;33m.\u001b[0m\u001b[0m_buffered\u001b[0m\u001b[1;33m,\u001b[0m\u001b[1;33m\u001b[0m\u001b[1;33m\u001b[0m\u001b[0m\n\u001b[0;32m    271\u001b[0m                                          raw_as_string=self._raw_as_string)\n",
      "\u001b[1;32m~\\anaconda3\\lib\\site-packages\\mysql\\connector\\connection_cext.py\u001b[0m in \u001b[0;36mcmd_query\u001b[1;34m(self, query, raw, buffered, raw_as_string)\u001b[0m\n\u001b[0;32m    538\u001b[0m                                query_attrs=self._query_attrs)\n\u001b[0;32m    539\u001b[0m         \u001b[1;32mexcept\u001b[0m \u001b[0mMySQLInterfaceError\u001b[0m \u001b[1;32mas\u001b[0m \u001b[0mexc\u001b[0m\u001b[1;33m:\u001b[0m\u001b[1;33m\u001b[0m\u001b[1;33m\u001b[0m\u001b[0m\n\u001b[1;32m--> 540\u001b[1;33m             raise errors.get_mysql_exception(exc.errno, msg=exc.msg,\n\u001b[0m\u001b[0;32m    541\u001b[0m                                              sqlstate=exc.sqlstate)\n\u001b[0;32m    542\u001b[0m         \u001b[1;32mexcept\u001b[0m \u001b[0mAttributeError\u001b[0m\u001b[1;33m:\u001b[0m\u001b[1;33m\u001b[0m\u001b[1;33m\u001b[0m\u001b[0m\n",
      "\u001b[1;31mDatabaseError\u001b[0m: 1007 (HY000): Can't create database 'student'; database exists"
     ]
    }
   ],
   "source": [
    "#create database\n",
    "sql = \"CREATE DATABASE student\"\n",
    "cursor = db.cursor()\n",
    "cursor.execute(sql)\n",
    "cursor.close()\n",
    "db.close()"
   ]
  },
  {
   "cell_type": "code",
   "execution_count": null,
   "id": "bd9d80cc",
   "metadata": {},
   "outputs": [],
   "source": [
    "#create table\n",
    "try:\n",
    "    db = conn.connect(\n",
    "    host = \"localhost\",\n",
    "    user = \"root\",\n",
    "    password = \"\",\n",
    "    database = \"student\"\n",
    "    )\n",
    "    sql = \"CREATE TABLE Student_info(id integer primary key auto_increment, name varchar(255), dept varchar(255))\"\n",
    "    cursor = db.cursor()\n",
    "    cursor.execute(sql)\n",
    "    cursor.close()\n",
    "    db.close()\n",
    "except Exception as e:\n",
    "    print(e)"
   ]
  },
  {
   "cell_type": "code",
   "execution_count": null,
   "id": "ecb36edd",
   "metadata": {},
   "outputs": [],
   "source": [
    "#insert data into table\n",
    "try:\n",
    "    db = conn.connect(\n",
    "    host = \"localhost\",\n",
    "    user = \"root\",\n",
    "    password = \"\",\n",
    "    database = \"student\"\n",
    "    )\n",
    "    sql = \"INSERT INTO Student_info(id , name , dept) VALUES(0, 'Rumpa', 'BBA')\"\n",
    "    cursor = db.cursor()\n",
    "    cursor.execute(sql)\n",
    "    db.commit()\n",
    "    cursor.close()\n",
    "    db.close()\n",
    "except Exception as e:\n",
    "    print(e)"
   ]
  },
  {
   "cell_type": "code",
   "execution_count": null,
   "id": "aa2a41de",
   "metadata": {},
   "outputs": [],
   "source": [
    "#insert data into table\n",
    "try:\n",
    "    db = conn.connect(\n",
    "    host = \"localhost\",\n",
    "    user = \"root\",\n",
    "    password = \"\",\n",
    "    database = \"student\"\n",
    "    )\n",
    "    sql = \"INSERT INTO Student_info(id , name , dept) VALUES(0, 'Effat', 'BBA')\"\n",
    "    cursor = db.cursor()\n",
    "    cursor.execute(sql)\n",
    "    db.commit()\n",
    "    cursor.close()\n",
    "    db.close()\n",
    "except Exception as e:\n",
    "    print(e)"
   ]
  },
  {
   "cell_type": "code",
   "execution_count": 15,
   "id": "e96b4a3a",
   "metadata": {},
   "outputs": [
    {
     "name": "stdout",
     "output_type": "stream",
     "text": [
      "[(1, 'Rumpa', 'BBA'), (2, 'Effat', 'BBA'), (3, 'Rumpa', 'BBA'), (4, 'Effat', 'BBA')]\n"
     ]
    }
   ],
   "source": [
    "#fetch the data\n",
    "try:\n",
    "    db = conn.connect(\n",
    "    host = \"localhost\",\n",
    "    user = \"root\",\n",
    "    password = \"\",\n",
    "    database = \"student\"\n",
    "    )\n",
    "    sql = \"SELECT * From Student_info\"\n",
    "    cursor = db.cursor()\n",
    "    cursor.execute(sql)\n",
    "    res = cursor.fetchall()\n",
    "    print(res)\n",
    "    cursor.close()\n",
    "    db.close()\n",
    "except Exception as e:\n",
    "    print(e)"
   ]
  },
  {
   "cell_type": "code",
   "execution_count": 16,
   "id": "470e0bfc",
   "metadata": {},
   "outputs": [
    {
     "name": "stdout",
     "output_type": "stream",
     "text": [
      "(1, 'Rumpa', 'BBA')\n",
      "(2, 'Effat', 'BBA')\n",
      "(3, 'Rumpa', 'BBA')\n",
      "(4, 'Effat', 'BBA')\n"
     ]
    }
   ],
   "source": [
    "#fetch the data\n",
    "try:\n",
    "    db = conn.connect(\n",
    "    host = \"localhost\",\n",
    "    user = \"root\",\n",
    "    password = \"\",\n",
    "    database = \"student\"\n",
    "    )\n",
    "    sql = \"SELECT * From Student_info\"\n",
    "    cursor = db.cursor()\n",
    "    cursor.execute(sql)\n",
    "    res = cursor.fetchall()\n",
    "    for i in res:\n",
    "        print(i)\n",
    "    cursor.close()\n",
    "    db.close()\n",
    "except Exception as e:\n",
    "    print(e)"
   ]
  },
  {
   "cell_type": "code",
   "execution_count": 17,
   "id": "189b58ae",
   "metadata": {},
   "outputs": [],
   "source": [
    "# with oop\n",
    "# def insert(self, sql)"
   ]
  },
  {
   "cell_type": "code",
   "execution_count": 18,
   "id": "b72f067f",
   "metadata": {},
   "outputs": [
    {
     "name": "stdout",
     "output_type": "stream",
     "text": [
      "(1, 'Rumpa', 'CSE')\n",
      "(2, 'Effat', 'BBA')\n",
      "(3, 'Rumpa', 'BBA')\n",
      "(4, 'Effat', 'BBA')\n"
     ]
    }
   ],
   "source": [
    "#update table\n",
    "try:\n",
    "    db = conn.connect(\n",
    "    host = \"localhost\",\n",
    "    user = \"root\",\n",
    "    password = \"\",\n",
    "    database = \"student\"\n",
    "    )\n",
    "    sql = \"UPDATE Student_info SET dept = 'CSE' WHERE id = 1\"\n",
    "    cursor = db.cursor()\n",
    "    cursor.execute(sql)\n",
    "    db.commit()\n",
    "    cursor.close()\n",
    "    db.close()\n",
    "except Exception as e:\n",
    "    print(e)  \n",
    "       \n",
    "    \n",
    "#    =====================\n",
    "\n",
    "    \n",
    "try:\n",
    "    db = conn.connect(\n",
    "    host = \"localhost\",\n",
    "    user = \"root\",\n",
    "    password = \"\",\n",
    "    database = \"student\"\n",
    "    )\n",
    "    sql = \"SELECT * From Student_info\"\n",
    "    cursor = db.cursor()\n",
    "    cursor.execute(sql)\n",
    "    res = cursor.fetchall()\n",
    "    for i in res:\n",
    "        print(i)\n",
    "    cursor.close()\n",
    "    db.close()\n",
    "except Exception as e:\n",
    "    print(e)"
   ]
  },
  {
   "cell_type": "code",
   "execution_count": 19,
   "id": "88a31d15",
   "metadata": {},
   "outputs": [
    {
     "name": "stdout",
     "output_type": "stream",
     "text": [
      "(1, 'Rumpa', 'CSE')\n",
      "(2, 'Effat', 'BBA')\n",
      "(4, 'Effat', 'BBA')\n"
     ]
    }
   ],
   "source": [
    "#delete table\n",
    "try:\n",
    "    db = conn.connect(\n",
    "    host = \"localhost\",\n",
    "    user = \"root\",\n",
    "    password = \"\",\n",
    "    database = \"student\"\n",
    "    )\n",
    "    sql = \"DELETE From Student_info WHERE id = 3\"\n",
    "    cursor = db.cursor()\n",
    "    cursor.execute(sql)\n",
    "    db.commit()\n",
    "    cursor.close()\n",
    "    db.close()\n",
    "except Exception as e:\n",
    "    print(e)  \n",
    "       \n",
    "    \n",
    "#    =====================\n",
    "\n",
    "    \n",
    "try:\n",
    "    db = conn.connect(\n",
    "    host = \"localhost\",\n",
    "    user = \"root\",\n",
    "    password = \"\",\n",
    "    database = \"student\"\n",
    "    )\n",
    "    sql = \"SELECT * From Student_info\"\n",
    "    cursor = db.cursor()\n",
    "    cursor.execute(sql)\n",
    "    res = cursor.fetchall()\n",
    "    for i in res:\n",
    "        print(i)\n",
    "    cursor.close()\n",
    "    db.close()\n",
    "except Exception as e:\n",
    "    print(e)"
   ]
  },
  {
   "cell_type": "code",
   "execution_count": null,
   "id": "89bc77bc",
   "metadata": {},
   "outputs": [],
   "source": []
  }
 ],
 "metadata": {
  "kernelspec": {
   "display_name": "Python 3 (ipykernel)",
   "language": "python",
   "name": "python3"
  },
  "language_info": {
   "codemirror_mode": {
    "name": "ipython",
    "version": 3
   },
   "file_extension": ".py",
   "mimetype": "text/x-python",
   "name": "python",
   "nbconvert_exporter": "python",
   "pygments_lexer": "ipython3",
   "version": "3.9.7"
  }
 },
 "nbformat": 4,
 "nbformat_minor": 5
}
