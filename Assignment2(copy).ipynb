{
 "cells": [
  {
   "cell_type": "code",
   "execution_count": 1,
   "id": "b225d3fd",
   "metadata": {},
   "outputs": [
    {
     "name": "stdout",
     "output_type": "stream",
     "text": [
      "Name: Erha \n",
      "Age: 12 \n",
      "NID: 235654657 \n",
      "Adress:  ABB Colony\n"
     ]
    }
   ],
   "source": [
    "from abc import ABC, abstractmethod\n",
    "\n",
    "class customer(ABC):\n",
    "    @abstractmethod\n",
    "    def get_name(self):\n",
    "        pass\n",
    "\n",
    "    @abstractmethod\n",
    "    def set_name(self, name):\n",
    "        pass\n",
    "\n",
    "    @abstractmethod\n",
    "    def get_age(self):\n",
    "        pass\n",
    "\n",
    "    @abstractmethod\n",
    "    def set_age(self, age):\n",
    "        pass\n",
    "\n",
    "    @abstractmethod\n",
    "    def get_nid(self):\n",
    "        pass\n",
    "\n",
    "    @abstractmethod\n",
    "    def set_nid(self, nid):\n",
    "        pass\n",
    "\n",
    "    @abstractmethod\n",
    "    def get_adress(self):\n",
    "        pass\n",
    "\n",
    "    @abstractmethod\n",
    "    def set_adress(self, adress):\n",
    "        pass\n",
    "\n",
    "class customerImplementation(customer):\n",
    "\n",
    "    def __init__(self, name, age, nid, adress):\n",
    "        self.name = name\n",
    "        self.age = age\n",
    "        self.__nid = nid\n",
    "        self.adress = adress\n",
    "\n",
    "\n",
    "    def get_name(self):\n",
    "        return self.name\n",
    "\n",
    "    def set_name(self, name):\n",
    "        self.name = name\n",
    "\n",
    "    def get_age(self):\n",
    "        return self.age\n",
    "\n",
    "    def set_age(self, age):\n",
    "        self.age = age\n",
    "\n",
    "    def get_nid(self):\n",
    "        return self.__nid\n",
    "\n",
    "    def set_nid(self, nid):\n",
    "        self.__nid = nid\n",
    "\n",
    "    def get_adress(self):\n",
    "        return self.adress\n",
    "\n",
    "    def set_adress(self, adress):\n",
    "        self.adress = adress\n",
    "\n",
    "    def __str__(self):\n",
    "        return \"Name: \"+self.name+\" \"+\"\\nAge: \"+str(self.age)+\" \"+\"\\nNID: \"+str(self.__nid)+\" \"+\"\\nAdress: \"+\" \"+self.adress\n",
    "\n",
    "\n",
    "customer = customerImplementation(\"Erha\", 12 , 235654657, \"ABB Colony\")\n",
    "print(customer)"
   ]
  },
  {
   "cell_type": "code",
   "execution_count": 2,
   "id": "89319e80",
   "metadata": {},
   "outputs": [
    {
     "name": "stdout",
     "output_type": "stream",
     "text": [
      "Name: Erha \n",
      "Age: 10 \n",
      "NID: 324398499 \n",
      "Adress:  ABD Colony\n"
     ]
    }
   ],
   "source": [
    "class savingsaccounts(customerImplementation):\n",
    "\n",
    "    def __init__(self, name, age, nid, adress, accountnumber):\n",
    "        customerImplementation.__init__(self,name, age, nid, adress)\n",
    "        self._accountnumber = accountnumber\n",
    "        self.__openingbalance = 0.0\n",
    "        \n",
    "    def openingaccount(self):\n",
    "        self.__openingbalance = int(input(\"Opening Transaction : \"))\n",
    "        if self.__openingbalance >= 500:\n",
    "            print(\"Congratulations. You have opened your account.\")\n",
    "            \n",
    "            \n",
    "        else:\n",
    "            print(\"Account opening unsuccessful.\")\n",
    "            \n",
    "customer = savingsaccounts(\"Erha\", 10, 324398499, \"ABD Colony\", \"vfvijf4546\")\n",
    "print(customer)"
   ]
  },
  {
   "cell_type": "code",
   "execution_count": 3,
   "id": "db8214ea",
   "metadata": {},
   "outputs": [
    {
     "name": "stdout",
     "output_type": "stream",
     "text": [
      "Name: Erha \n",
      "Age: 10 \n",
      "NID: 324398499 \n",
      "Adress:  ABD Colony\n",
      "Opening Transaction : 500\n",
      "Congratulations. You have opened your account.\n"
     ]
    }
   ],
   "source": [
    "print(customer)\n",
    "customer.openingaccount()"
   ]
  },
  {
   "cell_type": "code",
   "execution_count": 4,
   "id": "e7847a8a",
   "metadata": {},
   "outputs": [
    {
     "name": "stdout",
     "output_type": "stream",
     "text": [
      "make a deposit : 555\n"
     ]
    },
    {
     "ename": "AttributeError",
     "evalue": "'savingsaccounts' object has no attribute '_savingsaccounts__openingbalance'",
     "output_type": "error",
     "traceback": [
      "\u001b[1;31m---------------------------------------------------------------------------\u001b[0m",
      "\u001b[1;31mAttributeError\u001b[0m                            Traceback (most recent call last)",
      "\u001b[1;32mC:\\Users\\YOUTEC~1\\AppData\\Local\\Temp/ipykernel_4032/1566687263.py\u001b[0m in \u001b[0;36m<module>\u001b[1;34m\u001b[0m\n\u001b[0;32m     18\u001b[0m \u001b[1;33m\u001b[0m\u001b[0m\n\u001b[0;32m     19\u001b[0m \u001b[0mcustomer\u001b[0m \u001b[1;33m=\u001b[0m \u001b[0msavingsaccounts\u001b[0m\u001b[1;33m(\u001b[0m\u001b[1;34m\"Erha\"\u001b[0m\u001b[1;33m,\u001b[0m \u001b[1;36m10\u001b[0m\u001b[1;33m,\u001b[0m \u001b[1;36m324398499\u001b[0m\u001b[1;33m,\u001b[0m \u001b[1;34m\"ABD Colony\"\u001b[0m\u001b[1;33m)\u001b[0m\u001b[1;33m\u001b[0m\u001b[1;33m\u001b[0m\u001b[0m\n\u001b[1;32m---> 20\u001b[1;33m \u001b[0mprint\u001b[0m\u001b[1;33m(\u001b[0m\u001b[0mcustomer\u001b[0m\u001b[1;33m.\u001b[0m\u001b[0mdeposit\u001b[0m\u001b[1;33m(\u001b[0m\u001b[1;33m)\u001b[0m\u001b[1;33m)\u001b[0m\u001b[1;33m\u001b[0m\u001b[1;33m\u001b[0m\u001b[0m\n\u001b[0m\u001b[0;32m     21\u001b[0m \u001b[0mprint\u001b[0m\u001b[1;33m(\u001b[0m\u001b[0mcustomer\u001b[0m\u001b[1;33m.\u001b[0m\u001b[0mwithdraw\u001b[0m\u001b[1;33m(\u001b[0m\u001b[1;33m)\u001b[0m\u001b[1;33m)\u001b[0m\u001b[1;33m\u001b[0m\u001b[1;33m\u001b[0m\u001b[0m\n\u001b[0;32m     22\u001b[0m \u001b[0mprint\u001b[0m\u001b[1;33m(\u001b[0m\u001b[0mcustomer\u001b[0m\u001b[1;33m.\u001b[0m\u001b[0minfo\u001b[0m\u001b[1;33m(\u001b[0m\u001b[1;33m)\u001b[0m\u001b[1;33m)\u001b[0m\u001b[1;33m\u001b[0m\u001b[1;33m\u001b[0m\u001b[0m\n",
      "\u001b[1;32mC:\\Users\\YOUTEC~1\\AppData\\Local\\Temp/ipykernel_4032/1566687263.py\u001b[0m in \u001b[0;36mdeposit\u001b[1;34m(self)\u001b[0m\n\u001b[0;32m      4\u001b[0m     \u001b[1;32mdef\u001b[0m \u001b[0mdeposit\u001b[0m\u001b[1;33m(\u001b[0m\u001b[0mself\u001b[0m\u001b[1;33m)\u001b[0m\u001b[1;33m:\u001b[0m\u001b[1;33m\u001b[0m\u001b[1;33m\u001b[0m\u001b[0m\n\u001b[0;32m      5\u001b[0m         \u001b[0mamount\u001b[0m \u001b[1;33m=\u001b[0m \u001b[0mint\u001b[0m\u001b[1;33m(\u001b[0m\u001b[0minput\u001b[0m\u001b[1;33m(\u001b[0m\u001b[1;34m\"make a deposit : \"\u001b[0m\u001b[1;33m)\u001b[0m\u001b[1;33m)\u001b[0m\u001b[1;33m\u001b[0m\u001b[1;33m\u001b[0m\u001b[0m\n\u001b[1;32m----> 6\u001b[1;33m         \u001b[0mself\u001b[0m\u001b[1;33m.\u001b[0m\u001b[0m__openingbalance\u001b[0m \u001b[1;33m+=\u001b[0m \u001b[0mamount\u001b[0m\u001b[1;33m\u001b[0m\u001b[1;33m\u001b[0m\u001b[0m\n\u001b[0m\u001b[0;32m      7\u001b[0m \u001b[1;33m\u001b[0m\u001b[0m\n\u001b[0;32m      8\u001b[0m     \u001b[1;32mdef\u001b[0m \u001b[0mwithdraw\u001b[0m\u001b[1;33m(\u001b[0m\u001b[0mself\u001b[0m\u001b[1;33m)\u001b[0m\u001b[1;33m:\u001b[0m\u001b[1;33m\u001b[0m\u001b[1;33m\u001b[0m\u001b[0m\n",
      "\u001b[1;31mAttributeError\u001b[0m: 'savingsaccounts' object has no attribute '_savingsaccounts__openingbalance'"
     ]
    }
   ],
   "source": [
    "class savingsaccounts(customerImplementation):\n",
    "\n",
    "\n",
    "    def deposit(self):\n",
    "        amount = int(input(\"make a deposit : \"))\n",
    "        self.__openingbalance += amount\n",
    "\n",
    "    def withdraw(self):\n",
    "        amount = int(input(\"withdrawal amount : \"))\n",
    "        if self.__openingbalance >= amount:\n",
    "            self.__openingbalance -= amount\n",
    "        else:\n",
    "            print(\"Insufficient Balance\")\n",
    "\n",
    "\n",
    "\n",
    "\n",
    "\n",
    "customer = savingsaccounts(\"Erha\", 10, 324398499, \"ABD Colony\")\n",
    "print(customer.deposit())\n",
    "print(customer.withdraw())\n",
    "print(customer.info())"
   ]
  },
  {
   "cell_type": "code",
   "execution_count": null,
   "id": "36617198",
   "metadata": {},
   "outputs": [],
   "source": []
  },
  {
   "cell_type": "code",
   "execution_count": null,
   "id": "5e77cebb",
   "metadata": {},
   "outputs": [],
   "source": []
  }
 ],
 "metadata": {
  "kernelspec": {
   "display_name": "Python 3 (ipykernel)",
   "language": "python",
   "name": "python3"
  },
  "language_info": {
   "codemirror_mode": {
    "name": "ipython",
    "version": 3
   },
   "file_extension": ".py",
   "mimetype": "text/x-python",
   "name": "python",
   "nbconvert_exporter": "python",
   "pygments_lexer": "ipython3",
   "version": "3.9.7"
  }
 },
 "nbformat": 4,
 "nbformat_minor": 5
}
