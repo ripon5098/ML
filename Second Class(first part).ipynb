{
 "cells": [
  {
   "cell_type": "code",
   "execution_count": 1,
   "id": "ff34bdd0",
   "metadata": {},
   "outputs": [],
   "source": [
    "# Data type, Variable"
   ]
  },
  {
   "cell_type": "code",
   "execution_count": 2,
   "id": "60d7f9b5",
   "metadata": {},
   "outputs": [
    {
     "name": "stdout",
     "output_type": "stream",
     "text": [
      "100 <class 'int'>\n"
     ]
    }
   ],
   "source": [
    "#Data Type\n",
    "#int,float, string, boolean\n",
    "print(100, type(100))"
   ]
  },
  {
   "cell_type": "code",
   "execution_count": 3,
   "id": "36273174",
   "metadata": {},
   "outputs": [],
   "source": [
    "a=7"
   ]
  },
  {
   "cell_type": "code",
   "execution_count": 4,
   "id": "4d542a69",
   "metadata": {},
   "outputs": [
    {
     "data": {
      "text/plain": [
       "7"
      ]
     },
     "execution_count": 4,
     "metadata": {},
     "output_type": "execute_result"
    }
   ],
   "source": [
    "a"
   ]
  },
  {
   "cell_type": "markdown",
   "id": "7389cb8d",
   "metadata": {},
   "source": [
    "# python"
   ]
  },
  {
   "cell_type": "markdown",
   "id": "639f5a72",
   "metadata": {},
   "source": [
    "# python"
   ]
  },
  {
   "cell_type": "markdown",
   "id": "ec9f62e3",
   "metadata": {},
   "source": [
    "# python"
   ]
  },
  {
   "cell_type": "code",
   "execution_count": 5,
   "id": "081a7912",
   "metadata": {},
   "outputs": [
    {
     "data": {
      "text/html": [
       "<iframe width=\"560\" height=\"315\" src=\"https://www.youtube.com/embed/ieAhIXXrwMA\" title=\"YouTube video player\" frameborder=\"0\" allow=\"accelerometer; autoplay; clipboard-write; encrypted-media; gyroscope; picture-in-picture\" allowfullscreen></iframe>\n"
      ],
      "text/plain": [
       "<IPython.core.display.HTML object>"
      ]
     },
     "metadata": {},
     "output_type": "display_data"
    }
   ],
   "source": [
    "%%html\n",
    "<iframe width=\"560\" height=\"315\" src=\"https://www.youtube.com/embed/ieAhIXXrwMA\" title=\"YouTube video player\" frameborder=\"0\" allow=\"accelerometer; autoplay; clipboard-write; encrypted-media; gyroscope; picture-in-picture\" allowfullscreen></iframe>"
   ]
  },
  {
   "cell_type": "code",
   "execution_count": 6,
   "id": "ceab9301",
   "metadata": {},
   "outputs": [],
   "source": [
    "# Data Type, Variable"
   ]
  },
  {
   "cell_type": "code",
   "execution_count": 7,
   "id": "0a529385",
   "metadata": {},
   "outputs": [
    {
     "name": "stdout",
     "output_type": "stream",
     "text": [
      "100\n",
      "30.33\n",
      "Welcome Coders\n",
      "True\n",
      "False\n"
     ]
    }
   ],
   "source": [
    "#Data Type\n",
    "# int, float, string, boolean\n",
    "print(100) # integer\n",
    "print(30.33) # float\n",
    "print(\"Welcome Coders\") # string\n",
    "print(True) # boolean\n",
    "print(False) # boolean"
   ]
  },
  {
   "cell_type": "code",
   "execution_count": 8,
   "id": "a069ee7d",
   "metadata": {},
   "outputs": [
    {
     "name": "stdout",
     "output_type": "stream",
     "text": [
      "100 <class 'int'>\n",
      "30.33 <class 'float'>\n",
      "Welcome Coders <class 'str'>\n",
      "True <class 'bool'>\n",
      "False <class 'bool'>\n"
     ]
    }
   ],
   "source": [
    "#Data Type\n",
    "# int, float, string, boolean\n",
    "print(100, type(100)) # integer\n",
    "print(30.33, type(30.33)) # float\n",
    "print(\"Welcome Coders\", type(\"Welcome Coders\")) # string\n",
    "print(True, type(True)) # boolean\n",
    "print(False, type(False)) # boolean"
   ]
  },
  {
   "cell_type": "code",
   "execution_count": 9,
   "id": "7d025225",
   "metadata": {},
   "outputs": [
    {
     "data": {
      "text/plain": [
       "1200"
      ]
     },
     "execution_count": 9,
     "metadata": {},
     "output_type": "execute_result"
    }
   ],
   "source": [
    "number = 1200\n",
    "number"
   ]
  },
  {
   "cell_type": "code",
   "execution_count": 10,
   "id": "afd88112",
   "metadata": {},
   "outputs": [],
   "source": [
    "num = 1200334556568832094567892379846589208947860"
   ]
  },
  {
   "cell_type": "code",
   "execution_count": 11,
   "id": "77d70a56",
   "metadata": {},
   "outputs": [
    {
     "data": {
      "text/plain": [
       "1200334556568832094567892379846589208947860"
      ]
     },
     "execution_count": 11,
     "metadata": {},
     "output_type": "execute_result"
    }
   ],
   "source": [
    "num"
   ]
  },
  {
   "cell_type": "code",
   "execution_count": 12,
   "id": "e4342695",
   "metadata": {},
   "outputs": [],
   "source": [
    "F = 3455665.4565464567"
   ]
  },
  {
   "cell_type": "code",
   "execution_count": 13,
   "id": "de603b53",
   "metadata": {},
   "outputs": [
    {
     "data": {
      "text/plain": [
       "3455665.4565464566"
      ]
     },
     "execution_count": 13,
     "metadata": {},
     "output_type": "execute_result"
    }
   ],
   "source": [
    "F"
   ]
  },
  {
   "cell_type": "code",
   "execution_count": 14,
   "id": "ee496289",
   "metadata": {},
   "outputs": [
    {
     "data": {
      "text/plain": [
       "'welcome to forword it'"
      ]
     },
     "execution_count": 14,
     "metadata": {},
     "output_type": "execute_result"
    }
   ],
   "source": [
    "'welcome to forword it'"
   ]
  },
  {
   "cell_type": "code",
   "execution_count": 15,
   "id": "181a4219",
   "metadata": {},
   "outputs": [
    {
     "data": {
      "text/plain": [
       "'we are fantastic learners'"
      ]
     },
     "execution_count": 15,
     "metadata": {},
     "output_type": "execute_result"
    }
   ],
   "source": [
    "\"we are fantastic learners\""
   ]
  },
  {
   "cell_type": "code",
   "execution_count": 16,
   "id": "04ab2863",
   "metadata": {},
   "outputs": [],
   "source": [
    "# 'we're happy'\n",
    "# SyntaxError: invalid syntax"
   ]
  },
  {
   "cell_type": "code",
   "execution_count": 17,
   "id": "8dfcfc12",
   "metadata": {},
   "outputs": [
    {
     "data": {
      "text/plain": [
       "\"we're happy\""
      ]
     },
     "execution_count": 17,
     "metadata": {},
     "output_type": "execute_result"
    }
   ],
   "source": [
    "'we\\'re happy'"
   ]
  },
  {
   "cell_type": "code",
   "execution_count": 18,
   "id": "b19ae26f",
   "metadata": {},
   "outputs": [
    {
     "data": {
      "text/plain": [
       "\"we're happy\""
      ]
     },
     "execution_count": 18,
     "metadata": {},
     "output_type": "execute_result"
    }
   ],
   "source": [
    "\"we're happy\""
   ]
  },
  {
   "cell_type": "code",
   "execution_count": 19,
   "id": "fed8e184",
   "metadata": {},
   "outputs": [
    {
     "data": {
      "text/plain": [
       "'we\\'re \"happy\"'"
      ]
     },
     "execution_count": 19,
     "metadata": {},
     "output_type": "execute_result"
    }
   ],
   "source": [
    "'we\\'re \"happy\"'"
   ]
  },
  {
   "cell_type": "code",
   "execution_count": 20,
   "id": "06b61a2a",
   "metadata": {},
   "outputs": [],
   "source": [
    "# Variable"
   ]
  },
  {
   "cell_type": "code",
   "execution_count": 21,
   "id": "b92b120b",
   "metadata": {},
   "outputs": [
    {
     "data": {
      "text/plain": [
       "45000"
      ]
     },
     "execution_count": 21,
     "metadata": {},
     "output_type": "execute_result"
    }
   ],
   "source": [
    "15*3000"
   ]
  },
  {
   "cell_type": "code",
   "execution_count": 22,
   "id": "267c716d",
   "metadata": {},
   "outputs": [],
   "source": [
    "name = \"Abul Kalam\"\n",
    "age = 29"
   ]
  },
  {
   "cell_type": "code",
   "execution_count": 23,
   "id": "18d72404",
   "metadata": {},
   "outputs": [
    {
     "data": {
      "text/plain": [
       "('Abul Kalam', 29)"
      ]
     },
     "execution_count": 23,
     "metadata": {},
     "output_type": "execute_result"
    }
   ],
   "source": [
    "name, age"
   ]
  },
  {
   "cell_type": "code",
   "execution_count": 24,
   "id": "a7c30e76",
   "metadata": {},
   "outputs": [],
   "source": [
    "address = \"Chattogram\""
   ]
  },
  {
   "cell_type": "code",
   "execution_count": 25,
   "id": "1da83a5f",
   "metadata": {},
   "outputs": [
    {
     "data": {
      "text/plain": [
       "('Abul Kalam', 29, 'Chattogram')"
      ]
     },
     "execution_count": 25,
     "metadata": {},
     "output_type": "execute_result"
    }
   ],
   "source": [
    "name, age, address"
   ]
  },
  {
   "cell_type": "code",
   "execution_count": 26,
   "id": "76058fc7",
   "metadata": {},
   "outputs": [],
   "source": [
    "name = \"Ripon\""
   ]
  },
  {
   "cell_type": "code",
   "execution_count": 27,
   "id": "1c650bb6",
   "metadata": {},
   "outputs": [],
   "source": [
    "age=23"
   ]
  },
  {
   "cell_type": "code",
   "execution_count": 28,
   "id": "c1f11cba",
   "metadata": {},
   "outputs": [],
   "source": [
    "home = \"Anowara\""
   ]
  },
  {
   "cell_type": "code",
   "execution_count": 29,
   "id": "2fefc38b",
   "metadata": {},
   "outputs": [
    {
     "data": {
      "text/plain": [
       "('Ripon', 'Anowara')"
      ]
     },
     "execution_count": 29,
     "metadata": {},
     "output_type": "execute_result"
    }
   ],
   "source": [
    "name, home"
   ]
  },
  {
   "cell_type": "code",
   "execution_count": 30,
   "id": "3b50f827",
   "metadata": {},
   "outputs": [
    {
     "data": {
      "text/plain": [
       "('Ripon', 23)"
      ]
     },
     "execution_count": 30,
     "metadata": {},
     "output_type": "execute_result"
    }
   ],
   "source": [
    "name, age"
   ]
  },
  {
   "cell_type": "code",
   "execution_count": 31,
   "id": "f8d4532a",
   "metadata": {},
   "outputs": [
    {
     "data": {
      "text/plain": [
       "'Anowara'"
      ]
     },
     "execution_count": 31,
     "metadata": {},
     "output_type": "execute_result"
    }
   ],
   "source": [
    "home"
   ]
  },
  {
   "cell_type": "code",
   "execution_count": 32,
   "id": "ee187cd8",
   "metadata": {},
   "outputs": [],
   "source": [
    "# no symbol\n",
    "# no number before declaration\n",
    "#must assign a value ex: address = \"dhaka\""
   ]
  },
  {
   "cell_type": "code",
   "execution_count": 33,
   "id": "2da46b1b",
   "metadata": {},
   "outputs": [],
   "source": [
    "# 1ripon\n",
    "# SyntaxError: invalid syntax"
   ]
  },
  {
   "cell_type": "code",
   "execution_count": 34,
   "id": "da14be60",
   "metadata": {},
   "outputs": [],
   "source": [
    "name2 = \"Minhaj\""
   ]
  },
  {
   "cell_type": "code",
   "execution_count": 35,
   "id": "f67cadc7",
   "metadata": {},
   "outputs": [
    {
     "data": {
      "text/plain": [
       "'Minhaj'"
      ]
     },
     "execution_count": 35,
     "metadata": {},
     "output_type": "execute_result"
    }
   ],
   "source": [
    "name2"
   ]
  },
  {
   "cell_type": "code",
   "execution_count": null,
   "id": "b527c0b3",
   "metadata": {},
   "outputs": [],
   "source": []
  },
  {
   "cell_type": "code",
   "execution_count": null,
   "id": "9b3c5e2f",
   "metadata": {},
   "outputs": [],
   "source": []
  }
 ],
 "metadata": {
  "kernelspec": {
   "display_name": "Python 3 (ipykernel)",
   "language": "python",
   "name": "python3"
  },
  "language_info": {
   "codemirror_mode": {
    "name": "ipython",
    "version": 3
   },
   "file_extension": ".py",
   "mimetype": "text/x-python",
   "name": "python",
   "nbconvert_exporter": "python",
   "pygments_lexer": "ipython3",
   "version": "3.9.7"
  }
 },
 "nbformat": 4,
 "nbformat_minor": 5
}
