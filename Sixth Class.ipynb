{
 "cells": [
  {
   "cell_type": "markdown",
   "id": "607d4072",
   "metadata": {},
   "source": [
    "# OOP principles"
   ]
  },
  {
   "cell_type": "code",
   "execution_count": 1,
   "id": "1aa2e2e0",
   "metadata": {},
   "outputs": [],
   "source": [
    "# abstraction, encapsulation, inheritance, polymorphism"
   ]
  },
  {
   "cell_type": "code",
   "execution_count": 2,
   "id": "690a0c89",
   "metadata": {},
   "outputs": [],
   "source": [
    "# abstraction"
   ]
  },
  {
   "cell_type": "code",
   "execution_count": 3,
   "id": "45b8a33b",
   "metadata": {},
   "outputs": [],
   "source": [
    "#OOP Principles\n",
    "#abstraction, encapsulation, inheritance, polymorphism\n",
    "from abc import ABC ,  abstractmethod  #abstractclass has no object\n",
    "#Abstract class\n",
    "class Student(ABC):\n",
    "    @abstractmethod\n",
    "    def get_name(self):\n",
    "        pass\n",
    "\n",
    "    @abstractmethod\n",
    "    def set_name(self, name):\n",
    "        pass\n",
    "\n",
    "    @abstractmethod\n",
    "    def get_dept(self):\n",
    "        pass\n",
    "\n",
    "    @abstractmethod\n",
    "    def set_dept(self, dept):\n",
    "        pass\n"
   ]
  },
  {
   "cell_type": "code",
   "execution_count": 4,
   "id": "2a1bfbd2",
   "metadata": {
    "scrolled": true
   },
   "outputs": [
    {
     "name": "stdout",
     "output_type": "stream",
     "text": [
      "Name: Erha \n",
      "Dept: IT\n",
      "Erha\n",
      "IT\n",
      "Erha\n",
      "IT\n"
     ]
    }
   ],
   "source": [
    "class StudentImpl(Student):\n",
    "\n",
    "    def __init__(self, name, dept):\n",
    "        self.name = name\n",
    "        self.dept = dept\n",
    "\n",
    "\n",
    "\n",
    "    def get_name(self):\n",
    "        return self.name\n",
    "\n",
    "    def set_name(self, name):\n",
    "        self.name = name\n",
    "\n",
    "    def get_dept(self):\n",
    "        return self.dept\n",
    "\n",
    "    def set_dept(self, dept):\n",
    "        self.dept = dept\n",
    "\n",
    "    def __str__(self):\n",
    "        return \"Name: \"+self.name+\" \"+\"\\nDept: \"+self.dept\n",
    "#student = StudentImpl()\n",
    "#print(student)\n",
    "#TypeError: Can't instantiate abstract class StudentImpl with abstract methods get_name, set_name\n",
    "student = StudentImpl(\"Erha\", \"IT\")\n",
    "print(student)\n",
    "print(student.name)\n",
    "print(student.dept)\n",
    "print(student.get_name())\n",
    "print(student.get_dept())"
   ]
  },
  {
   "cell_type": "code",
   "execution_count": 5,
   "id": "66d01eb5",
   "metadata": {},
   "outputs": [
    {
     "name": "stdout",
     "output_type": "stream",
     "text": [
      "Samir\n",
      "Name: Samir \n",
      "Dept: CSE\n",
      "3.141592653589793\n"
     ]
    }
   ],
   "source": [
    "import math\n",
    "\n",
    "student = StudentImpl(\"Samir\",\"CSE\")\n",
    "print(student.name)\n",
    "print(student)\n",
    "print(math.pi)"
   ]
  },
  {
   "cell_type": "code",
   "execution_count": 6,
   "id": "11b7ddd9",
   "metadata": {},
   "outputs": [],
   "source": [
    "#encapsulation"
   ]
  },
  {
   "cell_type": "code",
   "execution_count": 7,
   "id": "c8a17a76",
   "metadata": {},
   "outputs": [
    {
     "name": "stdout",
     "output_type": "stream",
     "text": [
      "Name: Tamim \n",
      "Dept: CSE\n",
      "5th\n"
     ]
    }
   ],
   "source": [
    "class StudentImpl(Student):\n",
    "\n",
    "    #encapsulation ->  1.private __ , 2.protected _ , 3.public\n",
    "\n",
    "    def __init__(self, name, dept, sem):\n",
    "        self.__name = name\n",
    "        self.__dept = dept\n",
    "        self._sem = sem\n",
    "\n",
    "\n",
    "\n",
    "\n",
    "    def get_name(self):\n",
    "        return self.__name\n",
    "\n",
    "    def set_name(self, name):\n",
    "        self.__name = name\n",
    "\n",
    "    def get_dept(self):\n",
    "        return self.__dept\n",
    "\n",
    "    def set_dept(self, dept):\n",
    "        self.__dept = dept\n",
    "\n",
    "    def __str__(self):\n",
    "        return \"Name: \"+self.__name+\" \"+\"\\nDept: \"+self.__dept\n",
    "\n",
    "\n",
    "class Examples(StudentImpl):\n",
    "    def __init(self, name, dept, sem, test=0):\n",
    "        StudentImpl.__init__(self, name, dept, sem)\n",
    "        self.test = test\n",
    "\n",
    "\n",
    "    def get_sem(self):\n",
    "        return self._sem\n",
    "\n",
    "    def get_aname(self):\n",
    "        return self.__name\n",
    "\n",
    "student = StudentImpl(\"Tamim\", \"CSE\", \"5th\")\n",
    "print(student)\n",
    "#print(student.name)\n",
    "#print(student.dept)\n",
    "#print(student.sem)\n",
    "#print(student.get_dept())\n",
    "\n",
    "ex = Examples(\"Tamim\", \"CSE\", \"5th\")\n",
    "print(ex.get_sem())\n",
    "#print(ex.get_aname())  #as it is private, it will not show.\n",
    "# in get_aname\n",
    "#     return self.__name\n",
    "# AttributeError: 'Examples' object has no attribute '_Examples__name'"
   ]
  },
  {
   "cell_type": "code",
   "execution_count": 8,
   "id": "3a77d5b4",
   "metadata": {},
   "outputs": [
    {
     "name": "stdout",
     "output_type": "stream",
     "text": [
      "Name: Abir \n",
      "Dept: BBA\n",
      "Abir\n",
      "BBA\n"
     ]
    }
   ],
   "source": [
    "class Account(StudentImpl):\n",
    "    pass\n",
    "\n",
    "acc = Account(\"Abir\", \"BBA\", \"8th\")\n",
    "print(acc)\n",
    "print(acc.get_name())\n",
    "print(acc.get_dept())"
   ]
  },
  {
   "cell_type": "code",
   "execution_count": 30,
   "id": "a811dbdc",
   "metadata": {},
   "outputs": [],
   "source": [
    "class Account(StudentImpl):\n",
    "\n",
    "    def __init__(self, name, dept, sem, credit, fees):\n",
    "        super().__init__(name, dept, sem)   #or, StudentImpl.__init__(self, name, dept, sem)\n",
    "        self.__credit = credit\n",
    "        self.__fees = fees\n",
    "        self.__waiver = 0.0\n",
    "        self.__has_waiver = False\n",
    "        self.__is_registered = False\n",
    "        self.__total_fees = credit * fees\n",
    "\n",
    "    def first_payment_amount(self):\n",
    "        return (self.__total_fees * 30)/100\n",
    "\n",
    "    def waiver_amount(self, result):\n",
    "        if result >= 3.50:\n",
    "            self.__total_fees -= ((self.__total_fees * 15)/100)\n",
    "            self.__has_waiver = True\n",
    "            return self.__total_fees\n",
    "        else:\n",
    "            return \"No Waiver\"\n",
    "\n",
    "    def register (self, payment):\n",
    "        if payment >= self.first_payment_amount():\n",
    "            self.__is_registered = True\n",
    "            print(\"Sucessfully registered.\")\n",
    "            self.__total_fees -= payment\n",
    "            print(\"Your payment is done. Rest of the amount is = \", self.__total_fees)\n",
    "            \n",
    "        else:\n",
    "            print(\"Insufficient Balance. You have to pay for your successful registration {}\" .format(self.first_payment_amount() - payment))\n",
    "\n",
    "    def __str__(self):\n",
    "        return self.get_name()+\" \"+self.get_dept()+\" \"+str(self.__credit)+\" \"+str(self.__total_fees)"
   ]
  },
  {
   "cell_type": "code",
   "execution_count": 31,
   "id": "9e266ef3",
   "metadata": {},
   "outputs": [
    {
     "name": "stdout",
     "output_type": "stream",
     "text": [
      "Shamim CSE 20 100000\n",
      "30000.0\n",
      "85000.0\n"
     ]
    }
   ],
   "source": [
    "acc = Account(\"Shamim\", \"CSE\", \"5th\", 20, 5000)\n",
    "print(acc)\n",
    "print(acc.first_payment_amount())\n",
    "print(acc.waiver_amount(3.80))"
   ]
  },
  {
   "cell_type": "code",
   "execution_count": 32,
   "id": "b3cf6885",
   "metadata": {},
   "outputs": [
    {
     "name": "stdout",
     "output_type": "stream",
     "text": [
      "25500.0\n",
      "Insufficient Balance. You have to pay for your successful registration 5500.0\n",
      "None\n"
     ]
    }
   ],
   "source": [
    "print(acc.first_payment_amount())\n",
    "print(acc.register(20000))"
   ]
  },
  {
   "cell_type": "code",
   "execution_count": 33,
   "id": "818f24ab",
   "metadata": {},
   "outputs": [
    {
     "name": "stdout",
     "output_type": "stream",
     "text": [
      "Sucessfully registered.\n",
      "Your payment is done. Rest of the amount is =  57000.0\n",
      "None\n"
     ]
    }
   ],
   "source": [
    "print(acc.register(28000))"
   ]
  },
  {
   "cell_type": "code",
   "execution_count": 34,
   "id": "4b1c9c9a",
   "metadata": {},
   "outputs": [
    {
     "name": "stdout",
     "output_type": "stream",
     "text": [
      "48450.0\n"
     ]
    }
   ],
   "source": [
    "print(acc.waiver_amount(3.70))"
   ]
  },
  {
   "cell_type": "code",
   "execution_count": 35,
   "id": "40097c62",
   "metadata": {},
   "outputs": [
    {
     "name": "stdout",
     "output_type": "stream",
     "text": [
      "14535.0\n"
     ]
    }
   ],
   "source": [
    "print(acc.first_payment_amount())"
   ]
  },
  {
   "cell_type": "code",
   "execution_count": 36,
   "id": "5004ee8f",
   "metadata": {},
   "outputs": [
    {
     "name": "stdout",
     "output_type": "stream",
     "text": [
      "Sucessfully registered.\n",
      "Your payment is done. Rest of the amount is =  28450.0\n",
      "None\n"
     ]
    }
   ],
   "source": [
    "print(acc.register(20000))"
   ]
  },
  {
   "cell_type": "code",
   "execution_count": 37,
   "id": "56fafae3",
   "metadata": {},
   "outputs": [
    {
     "name": "stdout",
     "output_type": "stream",
     "text": [
      "Sucessfully registered.\n",
      "Your payment is done. Rest of the amount is =  6450.0\n",
      "None\n"
     ]
    }
   ],
   "source": [
    "print(acc.register(22000))"
   ]
  },
  {
   "cell_type": "code",
   "execution_count": null,
   "id": "448aa10a",
   "metadata": {},
   "outputs": [],
   "source": []
  }
 ],
 "metadata": {
  "kernelspec": {
   "display_name": "Python 3 (ipykernel)",
   "language": "python",
   "name": "python3"
  },
  "language_info": {
   "codemirror_mode": {
    "name": "ipython",
    "version": 3
   },
   "file_extension": ".py",
   "mimetype": "text/x-python",
   "name": "python",
   "nbconvert_exporter": "python",
   "pygments_lexer": "ipython3",
   "version": "3.9.7"
  }
 },
 "nbformat": 4,
 "nbformat_minor": 5
}
