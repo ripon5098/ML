{
 "cells": [
  {
   "cell_type": "code",
   "execution_count": 1,
   "id": "a9e43571",
   "metadata": {},
   "outputs": [
    {
     "name": "stdout",
     "output_type": "stream",
     "text": [
      "Hello Coders\n"
     ]
    }
   ],
   "source": [
    "print(\"Hello Coders\")"
   ]
  },
  {
   "cell_type": "code",
   "execution_count": 2,
   "id": "ec7856e2",
   "metadata": {},
   "outputs": [
    {
     "name": "stdout",
     "output_type": "stream",
     "text": [
      "Hello Coders\n"
     ]
    }
   ],
   "source": [
    "print(\"Hello Coders\")"
   ]
  },
  {
   "cell_type": "markdown",
   "id": "67edc40a",
   "metadata": {},
   "source": [
    "# PYTHON"
   ]
  },
  {
   "cell_type": "code",
   "execution_count": 3,
   "id": "522b692e",
   "metadata": {},
   "outputs": [
    {
     "data": {
      "text/plain": [
       "'welcome'"
      ]
     },
     "execution_count": 3,
     "metadata": {},
     "output_type": "execute_result"
    }
   ],
   "source": [
    "'welcome'"
   ]
  },
  {
   "cell_type": "code",
   "execution_count": 4,
   "id": "d1cffb8b",
   "metadata": {},
   "outputs": [
    {
     "name": "stdout",
     "output_type": "stream",
     "text": [
      "Md. Minhaj Uddin\n"
     ]
    }
   ],
   "source": [
    "print(\"Md. Minhaj Uddin\")"
   ]
  },
  {
   "cell_type": "code",
   "execution_count": 5,
   "id": "257bf622",
   "metadata": {},
   "outputs": [
    {
     "data": {
      "text/plain": [
       "'Md. Minhaj Uddin'"
      ]
     },
     "execution_count": 5,
     "metadata": {},
     "output_type": "execute_result"
    }
   ],
   "source": [
    "\"Md. Minhaj Uddin\""
   ]
  },
  {
   "cell_type": "code",
   "execution_count": 6,
   "id": "02d8040d",
   "metadata": {},
   "outputs": [
    {
     "data": {
      "text/plain": [
       "'Md. Minhaj Uddin'"
      ]
     },
     "execution_count": 6,
     "metadata": {},
     "output_type": "execute_result"
    }
   ],
   "source": [
    "\"Md. Minhaj Uddin\""
   ]
  },
  {
   "cell_type": "code",
   "execution_count": null,
   "id": "c79d163f",
   "metadata": {},
   "outputs": [],
   "source": []
  }
 ],
 "metadata": {
  "kernelspec": {
   "display_name": "Python 3 (ipykernel)",
   "language": "python",
   "name": "python3"
  },
  "language_info": {
   "codemirror_mode": {
    "name": "ipython",
    "version": 3
   },
   "file_extension": ".py",
   "mimetype": "text/x-python",
   "name": "python",
   "nbconvert_exporter": "python",
   "pygments_lexer": "ipython3",
   "version": "3.9.7"
  }
 },
 "nbformat": 4,
 "nbformat_minor": 5
}
