{
 "cells": [
  {
   "cell_type": "markdown",
   "id": "f6aaf253",
   "metadata": {},
   "source": [
    "# Database"
   ]
  },
  {
   "cell_type": "code",
   "execution_count": 1,
   "id": "42900fe9",
   "metadata": {},
   "outputs": [],
   "source": [
    "import mysql.connector as conn"
   ]
  },
  {
   "cell_type": "code",
   "execution_count": 2,
   "id": "713e3e1a",
   "metadata": {},
   "outputs": [
    {
     "data": {
      "text/plain": [
       "<mysql.connector.connection_cext.CMySQLConnection at 0x1f977c143d0>"
      ]
     },
     "execution_count": 2,
     "metadata": {},
     "output_type": "execute_result"
    }
   ],
   "source": [
    "db = conn.connect(\n",
    "    host = \"localhost\",\n",
    "    user = \"root\",\n",
    "    password = \"\",\n",
    ")\n",
    "db"
   ]
  },
  {
   "cell_type": "code",
   "execution_count": 3,
   "id": "aa3f0bca",
   "metadata": {},
   "outputs": [],
   "source": [
    "#create database\n",
    "sql = \"CREATE DATABASE student1\"\n",
    "cursor = db.cursor()\n",
    "cursor.execute(sql)\n",
    "cursor.close()\n",
    "db.close()"
   ]
  },
  {
   "cell_type": "code",
   "execution_count": 5,
   "id": "f9cad54e",
   "metadata": {},
   "outputs": [],
   "source": [
    "#create table\n",
    "try:\n",
    "    db = conn.connect(\n",
    "    host = \"localhost\",\n",
    "    user = \"root\",\n",
    "    password = \"\",\n",
    "    database = \"student\"\n",
    "    )\n",
    "    sql = \"CREATE TABLE Student_info1(id integer primary key auto_increment, name varchar(255), dept varchar(255))\"\n",
    "    cursor = db.cursor()\n",
    "    cursor.execute(sql)\n",
    "    cursor.close()\n",
    "    db.close()\n",
    "except Exception as e:\n",
    "    print(e)"
   ]
  },
  {
   "cell_type": "code",
   "execution_count": 7,
   "id": "e91bdc53",
   "metadata": {},
   "outputs": [],
   "source": [
    "#insert data into table\n",
    "try:\n",
    "    db = conn.connect(\n",
    "    host = \"localhost\",\n",
    "    user = \"root\",\n",
    "    password = \"\",\n",
    "    database = \"student\"\n",
    "    )\n",
    "    sql = \"INSERT INTO Student_info1(id , name , dept) VALUES(0, 'Rumpa', 'Economics')\"\n",
    "    cursor = db.cursor()\n",
    "    cursor.execute(sql)\n",
    "    db.commit()\n",
    "    cursor.close()\n",
    "    db.close()\n",
    "except Exception as e:\n",
    "    print(e)"
   ]
  },
  {
   "cell_type": "code",
   "execution_count": 8,
   "id": "db818d8e",
   "metadata": {},
   "outputs": [],
   "source": [
    "#insert data into table\n",
    "try:\n",
    "    db = conn.connect(\n",
    "    host = \"localhost\",\n",
    "    user = \"root\",\n",
    "    password = \"\",\n",
    "    database = \"student\"\n",
    "    )\n",
    "    sql = \"INSERT INTO Student_info1(id , name , dept) VALUES(0, 'Effat', 'BBA')\"\n",
    "    cursor = db.cursor()\n",
    "    cursor.execute(sql)\n",
    "    db.commit()\n",
    "    cursor.close()\n",
    "    db.close()\n",
    "except Exception as e:\n",
    "    print(e)"
   ]
  },
  {
   "cell_type": "code",
   "execution_count": 9,
   "id": "8a2befe0",
   "metadata": {},
   "outputs": [
    {
     "name": "stdout",
     "output_type": "stream",
     "text": [
      "[(1, 'Rumpa', 'Economics'), (2, 'Effat', 'BBA')]\n"
     ]
    }
   ],
   "source": [
    "#fetch the data\n",
    "try:\n",
    "    db = conn.connect(\n",
    "    host = \"localhost\",\n",
    "    user = \"root\",\n",
    "    password = \"\",\n",
    "    database = \"student\"\n",
    "    )\n",
    "    sql = \"SELECT * From Student_info1\"\n",
    "    cursor = db.cursor()\n",
    "    cursor.execute(sql)\n",
    "    res = cursor.fetchall()\n",
    "    print(res)\n",
    "    cursor.close()\n",
    "    db.close()\n",
    "except Exception as e:\n",
    "    print(e)"
   ]
  },
  {
   "cell_type": "code",
   "execution_count": 10,
   "id": "201ce3a1",
   "metadata": {},
   "outputs": [
    {
     "name": "stdout",
     "output_type": "stream",
     "text": [
      "(1, 'Rumpa', 'Economics')\n",
      "(2, 'Effat', 'BBA')\n"
     ]
    }
   ],
   "source": [
    "#fetch the data\n",
    "try:\n",
    "    db = conn.connect(\n",
    "    host = \"localhost\",\n",
    "    user = \"root\",\n",
    "    password = \"\",\n",
    "    database = \"student\"\n",
    "    )\n",
    "    sql = \"SELECT * From Student_info1\"\n",
    "    cursor = db.cursor()\n",
    "    cursor.execute(sql)\n",
    "    res = cursor.fetchall()\n",
    "    for i in res:\n",
    "        print(i)\n",
    "    cursor.close()\n",
    "    db.close()\n",
    "except Exception as e:\n",
    "    print(e)"
   ]
  },
  {
   "cell_type": "code",
   "execution_count": 11,
   "id": "a6723a08",
   "metadata": {},
   "outputs": [
    {
     "name": "stdout",
     "output_type": "stream",
     "text": [
      "(1, 'Rumpa', 'CSE')\n",
      "(2, 'Effat', 'BBA')\n"
     ]
    }
   ],
   "source": [
    "#update table\n",
    "try:\n",
    "    db = conn.connect(\n",
    "    host = \"localhost\",\n",
    "    user = \"root\",\n",
    "    password = \"\",\n",
    "    database = \"student\"\n",
    "    )\n",
    "    sql = \"UPDATE Student_info1 SET dept = 'CSE' WHERE id = 1\"\n",
    "    cursor = db.cursor()\n",
    "    cursor.execute(sql)\n",
    "    db.commit()\n",
    "    cursor.close()\n",
    "    db.close()\n",
    "except Exception as e:\n",
    "    print(e)  \n",
    "       \n",
    "    \n",
    "#    =====================\n",
    "\n",
    "    \n",
    "try:\n",
    "    db = conn.connect(\n",
    "    host = \"localhost\",\n",
    "    user = \"root\",\n",
    "    password = \"\",\n",
    "    database = \"student\"\n",
    "    )\n",
    "    sql = \"SELECT * From Student_info1\"\n",
    "    cursor = db.cursor()\n",
    "    cursor.execute(sql)\n",
    "    res = cursor.fetchall()\n",
    "    for i in res:\n",
    "        print(i)\n",
    "    cursor.close()\n",
    "    db.close()\n",
    "except Exception as e:\n",
    "    print(e)"
   ]
  },
  {
   "cell_type": "code",
   "execution_count": 12,
   "id": "23cac512",
   "metadata": {},
   "outputs": [
    {
     "name": "stdout",
     "output_type": "stream",
     "text": [
      "(2, 'Effat', 'BBA')\n"
     ]
    }
   ],
   "source": [
    "#delete table\n",
    "try:\n",
    "    db = conn.connect(\n",
    "    host = \"localhost\",\n",
    "    user = \"root\",\n",
    "    password = \"\",\n",
    "    database = \"student\"\n",
    "    )\n",
    "    sql = \"DELETE From Student_info1 WHERE id = 1\"\n",
    "    cursor = db.cursor()\n",
    "    cursor.execute(sql)\n",
    "    db.commit()\n",
    "    cursor.close()\n",
    "    db.close()\n",
    "except Exception as e:\n",
    "    print(e)  \n",
    "       \n",
    "    \n",
    "#    =====================\n",
    "\n",
    "    \n",
    "try:\n",
    "    db = conn.connect(\n",
    "    host = \"localhost\",\n",
    "    user = \"root\",\n",
    "    password = \"\",\n",
    "    database = \"student\"\n",
    "    )\n",
    "    sql = \"SELECT * From Student_info1\"\n",
    "    cursor = db.cursor()\n",
    "    cursor.execute(sql)\n",
    "    res = cursor.fetchall()\n",
    "    for i in res:\n",
    "        print(i)\n",
    "    cursor.close()\n",
    "    db.close()\n",
    "except Exception as e:\n",
    "    print(e)"
   ]
  },
  {
   "cell_type": "code",
   "execution_count": null,
   "id": "dd635f4b",
   "metadata": {},
   "outputs": [],
   "source": []
  }
 ],
 "metadata": {
  "kernelspec": {
   "display_name": "Python 3 (ipykernel)",
   "language": "python",
   "name": "python3"
  },
  "language_info": {
   "codemirror_mode": {
    "name": "ipython",
    "version": 3
   },
   "file_extension": ".py",
   "mimetype": "text/x-python",
   "name": "python",
   "nbconvert_exporter": "python",
   "pygments_lexer": "ipython3",
   "version": "3.9.7"
  }
 },
 "nbformat": 4,
 "nbformat_minor": 5
}
